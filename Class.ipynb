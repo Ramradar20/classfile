{
 "cells": [
  {
   "cell_type": "code",
   "execution_count": 1,
   "metadata": {},
   "outputs": [
    {
     "name": "stderr",
     "output_type": "stream",
     "text": [
      "C:\\Users\\ramda\\AppData\\Local\\Continuum\\anaconda3\\lib\\importlib\\_bootstrap.py:219: RuntimeWarning: numpy.ufunc size changed, may indicate binary incompatibility. Expected 216, got 192\n",
      "  return f(*args, **kwds)\n"
     ]
    }
   ],
   "source": [
    "import pandas as pd\n",
    "import numpy as np\n",
    "\n",
    "import matplotlib.pyplot as plt\n"
   ]
  },
  {
   "cell_type": "code",
   "execution_count": 38,
   "metadata": {},
   "outputs": [
    {
     "name": "stdout",
     "output_type": "stream",
     "text": [
      "Enter the number A = 2\n",
      "Enter the number B = 2\n",
      "The sum of A and B is : 4\n"
     ]
    }
   ],
   "source": [
    "class numerical_calc:\n",
    "    \n",
    "    \n",
    "    def __init__(self , var_x , var_y):\n",
    "        \n",
    "        self.var_x = var_x\n",
    "        self.var_y = var_y\n",
    "        \n",
    "        \n",
    "    def np_sum(self):\n",
    "        \n",
    "        ans = self.var_x +self.var_y\n",
    "        \n",
    "        return ans\n",
    "        \n",
    "A = int(input(\"Enter the number A = \"))\n",
    "\n",
    "B = int(input(\"Enter the number B = \"))\n",
    "\n",
    "Sum = numerical_calc(A,B).np_sum()\n",
    "\n",
    "print(\"The sum of A and B is :\" ,Sum)"
   ]
  }
 ],
 "metadata": {
  "kernelspec": {
   "display_name": "Python 3",
   "language": "python",
   "name": "python3"
  },
  "language_info": {
   "codemirror_mode": {
    "name": "ipython",
    "version": 3
   },
   "file_extension": ".py",
   "mimetype": "text/x-python",
   "name": "python",
   "nbconvert_exporter": "python",
   "pygments_lexer": "ipython3",
   "version": "3.7.1"
  }
 },
 "nbformat": 4,
 "nbformat_minor": 2
}
